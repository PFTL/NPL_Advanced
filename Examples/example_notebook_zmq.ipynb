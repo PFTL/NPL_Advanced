{
 "cells": [
  {
   "cell_type": "code",
   "execution_count": 4,
   "id": "d41d5995-3e1c-4247-82e6-cf61b0cc9c1e",
   "metadata": {},
   "outputs": [
    {
     "name": "stdout",
     "output_type": "stream",
     "text": [
      "0 255\n"
     ]
    }
   ],
   "source": [
    "import numpy as np\n",
    "import zmq\n",
    "\n",
    "\n",
    "context = zmq.Context()\n",
    "socket = context.socket(zmq.SUB)\n",
    "socket.connect(\"tcp://localhost:5555\")\n",
    "socket.setsockopt(zmq.SUBSCRIBE, b'data')  # Set the topic filter\n",
    "\n",
    "\n",
    "topic = socket.recv_string()\n",
    "data = socket.recv_pyobj()\n",
    "print(np.min(data), np.max(data))"
   ]
  },
  {
   "cell_type": "code",
   "execution_count": 3,
   "id": "8adc1e18-7054-4ffd-b760-9bb8dd82a03e",
   "metadata": {},
   "outputs": [
    {
     "data": {
      "text/plain": [
       "array([[[ 57,  95, 104],\n",
       "        [ 56,  93, 103],\n",
       "        [ 58,  93, 103],\n",
       "        ...,\n",
       "        [ 78,  82,  58],\n",
       "        [ 78,  82,  58],\n",
       "        [ 78,  82,  58]],\n",
       "\n",
       "       [[ 58,  93, 103],\n",
       "        [ 58,  93, 103],\n",
       "        [ 58,  93, 103],\n",
       "        ...,\n",
       "        [ 78,  82,  58],\n",
       "        [ 78,  82,  58],\n",
       "        [ 78,  82,  58]],\n",
       "\n",
       "       [[ 58,  91, 103],\n",
       "        [ 58,  91, 103],\n",
       "        [ 58,  91, 103],\n",
       "        ...,\n",
       "        [ 78,  82,  58],\n",
       "        [ 78,  82,  58],\n",
       "        [ 78,  82,  58]],\n",
       "\n",
       "       ...,\n",
       "\n",
       "       [[ 36, 186, 173],\n",
       "        [ 38, 186, 173],\n",
       "        [ 38, 185, 175],\n",
       "        ...,\n",
       "        [255, 255, 204],\n",
       "        [255, 255, 202],\n",
       "        [255, 255, 202]],\n",
       "\n",
       "       [[ 38, 185, 175],\n",
       "        [ 38, 185, 175],\n",
       "        [ 40, 185, 175],\n",
       "        ...,\n",
       "        [255, 255, 203],\n",
       "        [255, 255, 202],\n",
       "        [255, 255, 201]],\n",
       "\n",
       "       [[ 38, 185, 175],\n",
       "        [ 38, 185, 175],\n",
       "        [ 40, 185, 175],\n",
       "        ...,\n",
       "        [255, 255, 203],\n",
       "        [255, 255, 201],\n",
       "        [255, 255, 201]]], dtype=uint8)"
      ]
     },
     "execution_count": 3,
     "metadata": {},
     "output_type": "execute_result"
    }
   ],
   "source": [
    "data"
   ]
  },
  {
   "cell_type": "code",
   "execution_count": null,
   "id": "f89579db-6c00-4648-8fe9-6f24797d516c",
   "metadata": {},
   "outputs": [],
   "source": []
  }
 ],
 "metadata": {
  "kernelspec": {
   "display_name": "Python 3 (ipykernel)",
   "language": "python",
   "name": "python3"
  },
  "language_info": {
   "codemirror_mode": {
    "name": "ipython",
    "version": 3
   },
   "file_extension": ".py",
   "mimetype": "text/x-python",
   "name": "python",
   "nbconvert_exporter": "python",
   "pygments_lexer": "ipython3",
   "version": "3.11.8"
  }
 },
 "nbformat": 4,
 "nbformat_minor": 5
}
